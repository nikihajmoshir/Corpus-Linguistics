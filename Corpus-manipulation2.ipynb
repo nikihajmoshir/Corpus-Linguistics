{
 "cells": [
  {
   "cell_type": "code",
   "execution_count": 2,
   "metadata": {},
   "outputs": [],
   "source": [
    "import re\n",
    "import zipfile\n",
    "import io\n",
    "from bs4 import BeautifulSoup\n",
    "from bs4.element import Tag, NavigableString\n",
    "from urllib.request import urlopen\n",
    "import os"
   ]
  },
  {
   "cell_type": "markdown",
   "metadata": {},
   "source": [
    "### corpus manipulation via Regex"
   ]
  },
  {
   "cell_type": "markdown",
   "metadata": {},
   "source": [
    "create a list consisting of all the dialogue in the novel Pride and Prejudice"
   ]
  },
  {
   "cell_type": "code",
   "execution_count": 3,
   "metadata": {},
   "outputs": [],
   "source": [
    "quotes = []\n",
    "# your code here\n",
    "url =\"https://www.gutenberg.org/files/1342/1342-0.txt\"\n",
    "f = urlopen(url)\n",
    "fr = f.read()\n",
    "fr = fr.decode(\"utf-8\")\n",
    "\n",
    "\n",
    "import re\n",
    "\n",
    "regex = '\\“(.*?)\\”'\n",
    "\n",
    "for quote in re.findall(regex,fr,re.DOTALL):\n",
    "    quote1 = quote.replace('\\r', ' ')\n",
    "    quote2 = quote1.replace('\\n', '')\n",
    "    quote3 = quote2.replace('_','')\n",
    "    quotes.append(quote3)"
   ]
  },
  {
   "cell_type": "code",
   "execution_count": 4,
   "metadata": {},
   "outputs": [
    {
     "name": "stderr",
     "output_type": "stream",
     "text": [
      "[nltk_data] Downloading package wordnet to /Users/niki/nltk_data...\n",
      "[nltk_data]   Package wordnet is already up-to-date!\n",
      "[nltk_data] Downloading package stopwords to /Users/niki/nltk_data...\n",
      "[nltk_data]   Unzipping corpora/stopwords.zip.\n",
      "[nltk_data] Downloading package averaged_perceptron_tagger to\n",
      "[nltk_data]     /Users/niki/nltk_data...\n",
      "[nltk_data]   Package averaged_perceptron_tagger is already up-to-\n",
      "[nltk_data]       date!\n",
      "[nltk_data] Downloading package punkt to /Users/niki/nltk_data...\n",
      "[nltk_data]   Package punkt is already up-to-date!\n"
     ]
    },
    {
     "data": {
      "text/plain": [
       "True"
      ]
     },
     "execution_count": 4,
     "metadata": {},
     "output_type": "execute_result"
    }
   ],
   "source": [
    "import nltk\n",
    "nltk.download(\"wordnet\")\n",
    "nltk.download(\"stopwords\")\n",
    "nltk.download(\"averaged_perceptron_tagger\")\n",
    "nltk.download(\"punkt\")"
   ]
  },
  {
   "cell_type": "code",
   "execution_count": null,
   "metadata": {},
   "outputs": [],
   "source": [
    "import re\n",
    "from bs4 import BeautifulSoup\n",
    "from nltk import pos_tag,sent_tokenize,word_tokenize\n",
    "from nltk.corpus import stopwords\n",
    "from nltk.stem import WordNetLemmatizer\n",
    "import zipfile\n",
    "import os\n",
    "\n",
    "lemmatizer = WordNetLemmatizer()\n",
    "\n",
    "def load_html(num):\n",
    "    f = open(\"lang-8/%d.html\" % num,encoding=\"utf-8\")\n",
    "    html = f.read()\n",
    "    f.close()\n",
    "    return html\n",
    "\n",
    "def lemmatize(word):\n",
    "    lemma = lemmatizer.lemmatize(word,'v')\n",
    "    if lemma == word:\n",
    "        lemma = lemmatizer.lemmatize(word,'n')\n",
    "    return lemma"
   ]
  },
  {
   "cell_type": "code",
   "execution_count": null,
   "metadata": {},
   "outputs": [],
   "source": [
    "if not os.path.exists(\"lang-8\"):\n",
    "    os.mkdir(\"lang-8\")\n",
    "    \n",
    "corpus_fileobj = f = open(\"lang-8.zip\",\"rb\")\n",
    "corpus_zip = zipfile.ZipFile(corpus_fileobj)\n",
    "for name in corpus_zip.namelist():\n",
    "    if name.endswith(\".html\"):\n",
    "        fout = open(\"lang-8/\" + name.split(\"/\")[-1],\"w\",encoding=\"utf-8\")\n",
    "        f = corpus_zip.open(name)\n",
    "        fout.write(f.read().decode(\"utf-8\"))\n",
    "        f.close()\n",
    "        fout.close()\n",
    "\n",
    "corpus_zip.close()"
   ]
  },
  {
   "cell_type": "markdown",
   "metadata": {},
   "source": [
    "building your intial corpus reader class"
   ]
  },
  {
   "cell_type": "code",
   "execution_count": null,
   "metadata": {},
   "outputs": [],
   "source": []
  },
  {
   "cell_type": "code",
   "execution_count": null,
   "metadata": {},
   "outputs": [],
   "source": []
  },
  {
   "cell_type": "code",
   "execution_count": null,
   "metadata": {},
   "outputs": [],
   "source": []
  },
  {
   "cell_type": "code",
   "execution_count": null,
   "metadata": {},
   "outputs": [],
   "source": []
  }
 ],
 "metadata": {
  "kernelspec": {
   "display_name": "Python 3",
   "language": "python",
   "name": "python3"
  },
  "language_info": {
   "codemirror_mode": {
    "name": "ipython",
    "version": 3
   },
   "file_extension": ".py",
   "mimetype": "text/x-python",
   "name": "python",
   "nbconvert_exporter": "python",
   "pygments_lexer": "ipython3",
   "version": "3.7.3"
  }
 },
 "nbformat": 4,
 "nbformat_minor": 4
}
