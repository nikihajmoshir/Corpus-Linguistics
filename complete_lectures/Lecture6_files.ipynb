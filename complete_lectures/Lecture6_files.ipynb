{
 "cells": [
  {
   "cell_type": "markdown",
   "metadata": {
    "slideshow": {
     "slide_type": "slide"
    }
   },
   "source": [
    "# COLX 521 Lecture 6: Text documents\n",
    "\n",
    "* Text IO\n",
    "* Encodings\n",
    "* Webpages"
   ]
  },
  {
   "cell_type": "markdown",
   "metadata": {
    "slideshow": {
     "slide_type": "slide"
    }
   },
   "source": [
    "## Text IO"
   ]
  },
  {
   "cell_type": "markdown",
   "metadata": {
    "slideshow": {
     "slide_type": "subslide"
    }
   },
   "source": [
    "The classic method for opening files in Python is to assign a file object (f) to the result of the open function, and then close the file by calling the close method. "
   ]
  },
  {
   "cell_type": "code",
   "execution_count": 75,
   "metadata": {},
   "outputs": [
    {
     "name": "stdout",
     "output_type": "stream",
     "text": [
      "{\n",
      " \"cells\": [\n",
      "  {\n",
      "   \"cell_type\": \"markdown\",\n",
      "   \"metadata\": {\n",
      "    \"slideshow\": {\n",
      "     \"slide_type\": \"slide\"\n",
      "    }\n",
      "   },\n",
      "   \"source\": [\n",
      "    \"# COLX 521 Lecture 6: Text documents\\n\",\n",
      "    \"\\n\",\n",
      "    \"* Text IO\\n\",\n",
      "    \"* Encodings\\n\",\n",
      "    \"* Webpages\"\n",
      "   ]\n",
      "  },\n",
      "  {\n",
      "   \"cell_type\": \"markdown\",\n",
      "   \"metadata\": {\n",
      "    \"slideshow\": {\n",
      "     \"slide_type\": \"slide\"\n",
      "    }\n",
      "   },\n",
      "   \"source\": [\n",
      "    \"## Text IO\"\n",
      "   ]\n",
      "  },\n",
      "  {\n",
      "   \"cell_type\": \"markdown\",\n",
      "   \"metadata\": {\n",
      "    \"slideshow\": {\n",
      "     \"slide_type\": \"subs\n"
     ]
    }
   ],
   "source": [
    "f = open(\"Lecture6_files.ipynb\")\n",
    "print(f.read(500))\n",
    "f.close()"
   ]
  },
  {
   "cell_type": "markdown",
   "metadata": {},
   "source": [
    "An popular alternative method is to use Python with...as syntax, which will close the file automatically at the end of the code block. \n",
    "\n",
    "- Advantage: won't accidently leave files open and lose data\n",
    "- Disadvantage: extra indentation"
   ]
  },
  {
   "cell_type": "code",
   "execution_count": 76,
   "metadata": {
    "slideshow": {
     "slide_type": "fragment"
    }
   },
   "outputs": [
    {
     "name": "stdout",
     "output_type": "stream",
     "text": [
      "{\n",
      " \"cells\": [\n",
      "  {\n",
      "   \"cell_type\": \"markdown\",\n",
      "   \"metadata\": {\n",
      "    \"slideshow\": {\n",
      "     \"slide_type\": \"slide\"\n",
      "    }\n",
      "   },\n",
      "   \"source\": [\n",
      "    \"# COLX 521 Lecture 6: Text documents\\n\",\n",
      "    \"\\n\",\n",
      "    \"* Text IO\\n\",\n",
      "    \"* Encodings\\n\",\n",
      "    \"* Webpages\"\n",
      "   ]\n",
      "  },\n",
      "  {\n",
      "   \"cell_type\": \"markdown\",\n",
      "   \"metadata\": {\n",
      "    \"slideshow\": {\n",
      "     \"slide_type\": \"slide\"\n",
      "    }\n",
      "   },\n",
      "   \"source\": [\n",
      "    \"## Text IO\"\n",
      "   ]\n",
      "  },\n",
      "  {\n",
      "   \"cell_type\": \"markdown\",\n",
      "   \"metadata\": {\n",
      "    \"slideshow\": {\n",
      "     \"slide_type\": \"subs\n"
     ]
    }
   ],
   "source": [
    "with open(\"Lecture6_files.ipynb\") as f:\n",
    "    print(f.read(500))"
   ]
  },
  {
   "cell_type": "markdown",
   "metadata": {
    "slideshow": {
     "slide_type": "fragment"
    }
   },
   "source": [
    "Remember that \"r\" mode does not need to be specified for reading, it is the default mode. Write mode \"w\" overwrites the file you are creating. The append option \"a\" can be useful if you are adding continuously to a file"
   ]
  },
  {
   "cell_type": "code",
   "execution_count": 77,
   "metadata": {
    "slideshow": {
     "slide_type": "fragment"
    }
   },
   "outputs": [],
   "source": [
    "#provided code\n",
    "with open(\"test.txt\",\"w\") as fout:\n",
    "    fout.write(\"test write 1\\n\")"
   ]
  },
  {
   "cell_type": "code",
   "execution_count": 78,
   "metadata": {},
   "outputs": [],
   "source": [
    "\n",
    "#provided code\n",
    "with open(\"test.txt\",\"w\",) as fout:\n",
    "    fout.write(\"test write 2\\n\")"
   ]
  },
  {
   "cell_type": "code",
   "execution_count": 79,
   "metadata": {},
   "outputs": [],
   "source": [
    "#provided code\n",
    "with open(\"test.txt\",\"a\") as fout:\n",
    "    fout.write(\"test append\")"
   ]
  },
  {
   "cell_type": "code",
   "execution_count": 80,
   "metadata": {},
   "outputs": [
    {
     "name": "stdout",
     "output_type": "stream",
     "text": [
      "test write 2\n",
      "test append\n"
     ]
    }
   ],
   "source": [
    "#provided code\n",
    "f = open(\"test.txt\")\n",
    "print(f.read())\n",
    "f.close()"
   ]
  },
  {
   "cell_type": "markdown",
   "metadata": {
    "slideshow": {
     "slide_type": "fragment"
    }
   },
   "source": [
    "The two most common options for reading files are iterating line by line using a *for* loop (which does not require holding the entire file in memory), or reading the entire file into a single string at once, using [read](https://docs.python.org/3/library/io.html#io.TextIOBase.read). You can read a single line of a file without loop by using [readline](https://docs.python.org/3/library/io.html#io.TextIOBase.readline). A fourth option is [readlines](https://docs.python.org/3/library/io.html#io.IOBase.readlines), which will read the entire file into a list of string where each string is a line. Remember that in all of these cases, the newline characters will still be there! "
   ]
  },
  {
   "cell_type": "code",
   "execution_count": 81,
   "metadata": {
    "slideshow": {
     "slide_type": "fragment"
    }
   },
   "outputs": [],
   "source": [
    "#provided code\n",
    "some_lines = \"line1\\nline2\\nline3\\nline4\"\n",
    "with open(\"test.txt\",\"w\") as fout:\n",
    "    fout.write(some_lines)"
   ]
  },
  {
   "cell_type": "code",
   "execution_count": 82,
   "metadata": {},
   "outputs": [
    {
     "name": "stdout",
     "output_type": "stream",
     "text": [
      "line1\n",
      "line2\n",
      "line3\n",
      "line4\n"
     ]
    }
   ],
   "source": [
    "with open(\"test.txt\") as f:\n",
    "    # my code here\n",
    "    print(f.read())\n",
    "    # my code here"
   ]
  },
  {
   "cell_type": "code",
   "execution_count": 83,
   "metadata": {},
   "outputs": [
    {
     "name": "stdout",
     "output_type": "stream",
     "text": [
      "line1\n",
      "line2\n",
      "line3\n",
      "line4\n"
     ]
    }
   ],
   "source": [
    "with open(\"test.txt\") as f:\n",
    "    # my code here\n",
    "    for line in f:\n",
    "        print(line.strip())\n",
    "    # my code here"
   ]
  },
  {
   "cell_type": "code",
   "execution_count": 84,
   "metadata": {},
   "outputs": [
    {
     "name": "stdout",
     "output_type": "stream",
     "text": [
      "line1\n",
      "\n"
     ]
    }
   ],
   "source": [
    "with open(\"test.txt\") as f:\n",
    "    # my code here\n",
    "    print(f.readline())\n",
    "    #print(f.readline())\n",
    "    # my code here"
   ]
  },
  {
   "cell_type": "code",
   "execution_count": 85,
   "metadata": {},
   "outputs": [
    {
     "name": "stdout",
     "output_type": "stream",
     "text": [
      "['line1\\n', 'line2\\n', 'line3\\n', 'line4']\n"
     ]
    }
   ],
   "source": [
    "with open(\"test.txt\") as f:\n",
    "    # my code here\n",
    "    print(f.readlines())\n",
    "    # my code here"
   ]
  },
  {
   "cell_type": "markdown",
   "metadata": {
    "slideshow": {
     "slide_type": "fragment"
    }
   },
   "source": [
    "For writing, the write method can be used whether you are writing incrementally or one shot. There is a [writelines](https://docs.python.org/3/library/io.html#io.IOBase.writelines) method if you already have a list of strings, though note that newlines are not added."
   ]
  },
  {
   "cell_type": "code",
   "execution_count": 86,
   "metadata": {},
   "outputs": [],
   "source": [
    "#provided code\n",
    "some_lines = [\"line1\",\"line2\",\"line3\",\"line4\"]"
   ]
  },
  {
   "cell_type": "code",
   "execution_count": 87,
   "metadata": {
    "slideshow": {
     "slide_type": "fragment"
    }
   },
   "outputs": [],
   "source": [
    "\n",
    "with open(\"test.txt\",\"w\") as fout:\n",
    "    #my code here\n",
    "    for line in some_lines:\n",
    "        fout.write(line + \"\\n\")\n",
    "    #my code here\n"
   ]
  },
  {
   "cell_type": "code",
   "execution_count": 88,
   "metadata": {},
   "outputs": [],
   "source": [
    "with open(\"test.txt\",\"a\") as fout:\n",
    "    #my code here\n",
    "    fout.writelines(some_lines)\n"
   ]
  },
  {
   "cell_type": "code",
   "execution_count": 89,
   "metadata": {},
   "outputs": [
    {
     "name": "stdout",
     "output_type": "stream",
     "text": [
      "line1\n",
      "line2\n",
      "line3\n",
      "line4\n",
      "line1line2line3line4\n"
     ]
    }
   ],
   "source": [
    "#provided code\n",
    "with open(\"test.txt\") as f:\n",
    "    print(f.read())"
   ]
  },
  {
   "cell_type": "markdown",
   "metadata": {
    "slideshow": {
     "slide_type": "slide"
    }
   },
   "source": [
    "## Encodings"
   ]
  },
  {
   "cell_type": "markdown",
   "metadata": {
    "slideshow": {
     "slide_type": "subslide"
    }
   },
   "source": [
    "For computers, numbers are everything. However, when dealing with texts, we need a way to associate numbers with characters. *Encodings* provide such a mapping. Generally there is trade-off between the number of possible characters that can be represented and the amount of space required to store text on disk, so different encodings were developed so they could represent the particular characters used in particular languages."
   ]
  },
  {
   "cell_type": "markdown",
   "metadata": {},
   "source": [
    "![test](http://www.asciitable.com/index/asciifull.gif)"
   ]
  },
  {
   "cell_type": "markdown",
   "metadata": {},
   "source": [
    "In Python, an encoding can be selecting using the `encoding` keyword when you open a file. ASCII was the first major encoding and is very compact but can only represent 128 characters; using ASCII will fail if you try to write text that uses characters which aren't found on typical English keyboard. "
   ]
  },
  {
   "cell_type": "code",
   "execution_count": 90,
   "metadata": {
    "scrolled": true,
    "slideshow": {
     "slide_type": "fragment"
    }
   },
   "outputs": [
    {
     "ename": "UnicodeEncodeError",
     "evalue": "'ascii' codec can't encode character '\\xe7' in position 0: ordinal not in range(128)",
     "output_type": "error",
     "traceback": [
      "\u001b[0;31m---------------------------------------------------------------------------\u001b[0m",
      "\u001b[0;31mUnicodeEncodeError\u001b[0m                        Traceback (most recent call last)",
      "\u001b[0;32m<ipython-input-90-f0fac6548466>\u001b[0m in \u001b[0;36m<module>\u001b[0;34m\u001b[0m\n\u001b[1;32m      2\u001b[0m \u001b[0;32mwith\u001b[0m \u001b[0mopen\u001b[0m\u001b[0;34m(\u001b[0m\u001b[0;34m\"test.txt\"\u001b[0m\u001b[0;34m,\u001b[0m \u001b[0;34m\"w\"\u001b[0m\u001b[0;34m,\u001b[0m\u001b[0mencoding\u001b[0m\u001b[0;34m=\u001b[0m\u001b[0;34m\"ascii\"\u001b[0m\u001b[0;34m)\u001b[0m \u001b[0;32mas\u001b[0m \u001b[0mfout\u001b[0m\u001b[0;34m:\u001b[0m\u001b[0;34m\u001b[0m\u001b[0;34m\u001b[0m\u001b[0m\n\u001b[1;32m      3\u001b[0m     \u001b[0mfout\u001b[0m\u001b[0;34m.\u001b[0m\u001b[0mwrite\u001b[0m\u001b[0;34m(\u001b[0m\u001b[0;34m\"this works\\n\"\u001b[0m\u001b[0;34m)\u001b[0m\u001b[0;34m\u001b[0m\u001b[0;34m\u001b[0m\u001b[0m\n\u001b[0;32m----> 4\u001b[0;31m     \u001b[0mfout\u001b[0m\u001b[0;34m.\u001b[0m\u001b[0mwrite\u001b[0m\u001b[0;34m(\u001b[0m\u001b[0;34m\"ça ne va pas\\n\"\u001b[0m\u001b[0;34m)\u001b[0m\u001b[0;34m\u001b[0m\u001b[0;34m\u001b[0m\u001b[0m\n\u001b[0m\u001b[1;32m      5\u001b[0m     \u001b[0mfout\u001b[0m\u001b[0;34m.\u001b[0m\u001b[0mwrite\u001b[0m\u001b[0;34m(\u001b[0m\u001b[0;34m\"不行\\n\"\u001b[0m\u001b[0;34m)\u001b[0m\u001b[0;34m\u001b[0m\u001b[0;34m\u001b[0m\u001b[0m\n",
      "\u001b[0;31mUnicodeEncodeError\u001b[0m: 'ascii' codec can't encode character '\\xe7' in position 0: ordinal not in range(128)"
     ]
    }
   ],
   "source": [
    "#provided code\n",
    "with open(\"test.txt\", \"w\",encoding=\"ascii\") as fout:\n",
    "    fout.write(\"this works\\n\")\n",
    "    fout.write(\"ça ne va pas\\n\")\n",
    "    fout.write(\"不行\\n\")"
   ]
  },
  {
   "cell_type": "markdown",
   "metadata": {
    "slideshow": {
     "slide_type": "fragment"
    }
   },
   "source": [
    "Latin-1 and various related formats can use up to 256 characters (a full byte), and support most of the languages of Europe. A variation on Latin-1 called CP-1252 is usually the default encoding for Windows."
   ]
  },
  {
   "cell_type": "code",
   "execution_count": null,
   "metadata": {
    "slideshow": {
     "slide_type": "fragment"
    }
   },
   "outputs": [],
   "source": [
    "#provided code\n",
    "with open(\"test.txt\", \"w\",encoding=\"latin-1\") as fout:\n",
    "    fout.write(\"this works\")\n",
    "    fout.write(\"ça va\")\n",
    "    fout.write(\"还是不行\")"
   ]
  },
  {
   "cell_type": "markdown",
   "metadata": {
    "slideshow": {
     "slide_type": "fragment"
    }
   },
   "source": [
    "These days, the most popular encoding is definitely UTF-8, which supports all the characters included in Unicode, including all the characters of pretty much every written language, as well as things like emoji. Even if you don't think you need it, it is a good idea to save the text files you create to be in utf-8. The characters included in ASCII have the same representation in UTF-8, so for normal English texts it is actually no less efficient. Note that UTF-8 is the default encoding for OS X."
   ]
  },
  {
   "cell_type": "code",
   "execution_count": null,
   "metadata": {
    "slideshow": {
     "slide_type": "fragment"
    }
   },
   "outputs": [],
   "source": [
    "#provided code\n",
    "with open(\"test.txt\", \"w\",encoding=\"utf-8\") as fout:\n",
    "    fout.write(\"this works\\n\")\n",
    "    fout.write(\"ça va\\n\")\n",
    "    fout.write(\"可以了\\n\")"
   ]
  },
  {
   "cell_type": "code",
   "execution_count": null,
   "metadata": {},
   "outputs": [],
   "source": [
    "#provided code\n",
    "with open(\"test.txt\",encoding=\"utf-8\") as f:\n",
    "    print(f.read())"
   ]
  },
  {
   "cell_type": "code",
   "execution_count": null,
   "metadata": {},
   "outputs": [],
   "source": [
    "#provided code  \n",
    "with open(\"test.txt\",encoding=\"ascii\") as f:\n",
    "    print(f.read())"
   ]
  },
  {
   "cell_type": "markdown",
   "metadata": {
    "slideshow": {
     "slide_type": "fragment"
    }
   },
   "source": [
    "Exercise: write or grab some text in another language with characters that don't appear in English and show that Unicode can represent it but ASCII cannot"
   ]
  },
  {
   "cell_type": "code",
   "execution_count": null,
   "metadata": {
    "slideshow": {
     "slide_type": "fragment"
    }
   },
   "outputs": [],
   "source": [
    "with open(\"test.txt\", \"w\",encoding=\"utf-8\") as fout:\n",
    "    fout.write(\"هذا يعمل\")\n",
    "    \n",
    "with open(\"test.txt\", \"r\",encoding=\"utf-8\") as f:\n",
    "    print(f.read())    \n",
    "\n",
    "with open(\"test.txt\", \"w\",encoding=\"ascii\") as fout:\n",
    "    fout.write(\"هذا لا يعمل\")\n",
    "    "
   ]
  },
  {
   "cell_type": "markdown",
   "metadata": {
    "slideshow": {
     "slide_type": "fragment"
    }
   },
   "source": [
    "Most of the time, encodings just work and you don't have to think about them. However, sooner or later (probably sooner) you will get an encoding error when you read a file. You might try changing the encoding, or trying to autodetect the encoding (more on this below). But sometimes it just doesn't work (or you don't have the patience), at which point you might want to try a more liberal option for the *errors* keyword parameter such as ignore or replace. "
   ]
  },
  {
   "cell_type": "code",
   "execution_count": null,
   "metadata": {
    "slideshow": {
     "slide_type": "subslide"
    }
   },
   "outputs": [],
   "source": [
    "#provided code\n",
    "with open(\"test.txt\", \"w\",encoding=\"utf-8\") as fout:\n",
    "    fout.write(\"this works\")\n",
    "    fout.write(\"ça va\")\n",
    "    fout.write(\"可以了\")\n",
    "    \n",
    "    \n",
    "with open(\"test.txt\",encoding=\"ascii\",errors=\"replace\") as f:\n",
    "    print(f.read())\n",
    "          "
   ]
  },
  {
   "cell_type": "markdown",
   "metadata": {
    "slideshow": {
     "slide_type": "fragment"
    }
   },
   "source": [
    "Usually encodings can be handled as part of file IO, but sometimes you need to encode to a bytes string or decode from a bytes string when there is no file involved. Use the encode and decode methods for strings, with also have the errors keyword argument"
   ]
  },
  {
   "cell_type": "code",
   "execution_count": null,
   "metadata": {
    "slideshow": {
     "slide_type": "fragment"
    }
   },
   "outputs": [],
   "source": [
    "with open(\"test.txt\",\"rb\") as f:\n",
    "    text = f.read()\n",
    "    # my code here\n",
    "    print(text)\n",
    "    print(text.decode(\"utf-8\"))\n",
    "    print(text.decode(\"ascii\",errors=\"ignore\"))\n",
    "    # my code here"
   ]
  },
  {
   "cell_type": "markdown",
   "metadata": {
    "slideshow": {
     "slide_type": "slide"
    }
   },
   "source": [
    "## Webpages"
   ]
  },
  {
   "cell_type": "markdown",
   "metadata": {
    "slideshow": {
     "slide_type": "subslide"
    }
   },
   "source": [
    "Webpages are opened much like a file on disk, using the urlopen command (from the package urllib.request) which creates the file object; just pass it the url. The string corresponding to the HTML file is then accessed using the read method."
   ]
  },
  {
   "cell_type": "code",
   "execution_count": null,
   "metadata": {
    "slideshow": {
     "slide_type": "fragment"
    }
   },
   "outputs": [],
   "source": [
    "from urllib.request import urlopen\n",
    "\n",
    "url = \"http://www.ubc.ca\"\n",
    "\n",
    "#my code here\n",
    "\n",
    "f = urlopen(url)\n",
    "binary_html = f.read()\n",
    "print(binary_html[:100])\n",
    "\n",
    "#my code here"
   ]
  },
  {
   "cell_type": "markdown",
   "metadata": {
    "slideshow": {
     "slide_type": "fragment"
    }
   },
   "source": [
    "One tricky bit is that what is returned by this is not a text string, but rather a raw binary string which should be decoded. Since UTF-8 is the standard encoding on the internet, that usually does the trick. "
   ]
  },
  {
   "cell_type": "code",
   "execution_count": null,
   "metadata": {
    "slideshow": {
     "slide_type": "-"
    }
   },
   "outputs": [],
   "source": [
    "html = binary_html.decode(\"utf-8\")\n",
    "print(html[:100])"
   ]
  },
  {
   "cell_type": "markdown",
   "metadata": {
    "slideshow": {
     "slide_type": "fragment"
    }
   },
   "source": [
    "XML is a way to add explicit structure to text. \n",
    "\n",
    "- Spans of text are enclosed in tags representing metatextual information, forming an element\n",
    "- Tags optionally include attributes and their values\n",
    "- Basic syntax of an XML element: `<tagname attribute1=value attribute2=value ...> text </tagname>` \n",
    "- In addition to text, elements can contain other elements, but elements cannot otherwise overlap\n",
    "\n"
   ]
  },
  {
   "cell_type": "raw",
   "metadata": {},
   "source": [
    "<tag1> this <tag2>is</tag2> good <tag1>\n",
    "<tag1> this <tag2>is</tag1> bad <tag2>"
   ]
  },
  {
   "cell_type": "markdown",
   "metadata": {},
   "source": [
    "HTML is essentially an instantiation of XML used for representing webpages."
   ]
  },
  {
   "cell_type": "code",
   "execution_count": null,
   "metadata": {
    "scrolled": true,
    "slideshow": {
     "slide_type": "fragment"
    }
   },
   "outputs": [],
   "source": [
    "print(html)"
   ]
  },
  {
   "cell_type": "markdown",
   "metadata": {
    "slideshow": {
     "slide_type": "fragment"
    }
   },
   "source": [
    "Exercise: use regular expressions to pull out all the opening HTML tags from the webpage. You should not include either closing tags which are marked with a /, nor *declarations* which are marked with a !"
   ]
  },
  {
   "cell_type": "code",
   "execution_count": null,
   "metadata": {
    "scrolled": true,
    "slideshow": {
     "slide_type": "-"
    }
   },
   "outputs": [],
   "source": [
    "import re\n",
    "\n",
    "xml_re = \"<[^/!][^>]+>\"\n",
    "\n",
    "for match in re.finditer(xml_re,html):\n",
    "    print(match.group())"
   ]
  },
  {
   "cell_type": "markdown",
   "metadata": {
    "slideshow": {
     "slide_type": "fragment"
    }
   },
   "source": [
    "Though you can use regex to pull out specific tags, often it is useful to have a parse XML/HTML into an explicit tree structure which can be navigated. There are many packages which will do this for you, one of the most popular is [BeautifulSoup](https://www.crummy.com/software/BeautifulSoup/bs4/doc). You can [create a \"Soup\" tree](https://www.crummy.com/software/BeautifulSoup/bs4/doc/#making-the-soup) from either a file or a existing string; one bonus is that if you give beautiful soup an opened file corresponding to a webpage, it will guess the encoding for you and convert it to unicode. If you want this functionality without parsing XML, use [UnicodeDammit](https://www.crummy.com/software/BeautifulSoup/bs4/doc/#unicode-dammit)"
   ]
  },
  {
   "cell_type": "code",
   "execution_count": null,
   "metadata": {
    "scrolled": true,
    "slideshow": {
     "slide_type": "fragment"
    }
   },
   "outputs": [],
   "source": [
    "#provided code\n",
    "from bs4 import BeautifulSoup\n",
    "\n",
    "soup =  BeautifulSoup(urlopen(\"http://www.ubc.ca\"),\"lxml\")\n",
    "print(soup.prettify())"
   ]
  },
  {
   "cell_type": "markdown",
   "metadata": {
    "slideshow": {
     "slide_type": "fragment"
    }
   },
   "source": [
    "If you are looking for (the contents of) a specific node or nodes, you can find them using the [find/find_all](https://www.crummy.com/software/BeautifulSoup/bs4/doc/#searching-the-tree) methods"
   ]
  },
  {
   "cell_type": "code",
   "execution_count": null,
   "metadata": {
    "scrolled": true,
    "slideshow": {
     "slide_type": "fragment"
    }
   },
   "outputs": [],
   "source": [
    "for node in soup.find_all(\"a\"):\n",
    "    print(node)"
   ]
  },
  {
   "cell_type": "markdown",
   "metadata": {
    "slideshow": {
     "slide_type": "fragment"
    }
   },
   "source": [
    "You can also look around the tree manually by using attributes of each node object, including the [contents](https://www.crummy.com/software/BeautifulSoup/bs4/doc/#contents-and-children) (which have a node's children) and .parent. You can treat the contents as if it is a list."
   ]
  },
  {
   "cell_type": "code",
   "execution_count": 93,
   "metadata": {
    "scrolled": true,
    "slideshow": {
     "slide_type": "-"
    }
   },
   "outputs": [],
   "source": [
    "#provided code\n",
    "form = soup.find(\"form\")"
   ]
  },
  {
   "cell_type": "code",
   "execution_count": 94,
   "metadata": {},
   "outputs": [
    {
     "name": "stdout",
     "output_type": "stream",
     "text": [
      "<form action=\"//www.ubc.ca/search/\" class=\"form-search\" method=\"get\" role=\"search\">\n",
      " <label for=\"q\">\n",
      "  Search UBC\n",
      " </label>\n",
      " <input class=\"input-xlarge search-query\" id=\"q\" name=\"q\" placeholder=\"Search UBC\" type=\"text\"/>\n",
      " <button class=\"btn\" type=\"submit\">\n",
      "  Search\n",
      " </button>\n",
      "</form>\n",
      "\n"
     ]
    }
   ],
   "source": [
    "print(form.prettify())"
   ]
  },
  {
   "cell_type": "code",
   "execution_count": 95,
   "metadata": {},
   "outputs": [
    {
     "ename": "IndexError",
     "evalue": "list index out of range",
     "output_type": "error",
     "traceback": [
      "\u001b[0;31m---------------------------------------------------------------------------\u001b[0m",
      "\u001b[0;31mIndexError\u001b[0m                                Traceback (most recent call last)",
      "\u001b[0;32m<ipython-input-95-05471227805a>\u001b[0m in \u001b[0;36m<module>\u001b[0;34m\u001b[0m\n\u001b[0;32m----> 1\u001b[0;31m \u001b[0mform\u001b[0m\u001b[0;34m.\u001b[0m\u001b[0mcontents\u001b[0m\u001b[0;34m[\u001b[0m\u001b[0;36m7\u001b[0m\u001b[0;34m]\u001b[0m\u001b[0;34m.\u001b[0m\u001b[0mcontents\u001b[0m\u001b[0;34m[\u001b[0m\u001b[0;36m0\u001b[0m\u001b[0;34m]\u001b[0m\u001b[0;34m\u001b[0m\u001b[0;34m\u001b[0m\u001b[0m\n\u001b[0m",
      "\u001b[0;31mIndexError\u001b[0m: list index out of range"
     ]
    }
   ],
   "source": [
    "form.contents[7].contents[0]"
   ]
  },
  {
   "cell_type": "code",
   "execution_count": 96,
   "metadata": {},
   "outputs": [
    {
     "name": "stdout",
     "output_type": "stream",
     "text": [
      "\n",
      "\n",
      "<label for=\"q\">Search UBC</label>\n",
      "\n",
      "\n",
      "<input class=\"input-xlarge search-query\" id=\"q\" name=\"q\" placeholder=\"Search UBC\" type=\"text\"/>\n",
      "\n",
      "\n",
      "<button class=\"btn\" type=\"submit\">Search</button>\n",
      "\n",
      "\n"
     ]
    }
   ],
   "source": [
    "for node in form.contents:\n",
    "    print(node)"
   ]
  },
  {
   "cell_type": "code",
   "execution_count": 29,
   "metadata": {},
   "outputs": [
    {
     "name": "stdout",
     "output_type": "stream",
     "text": [
      "<div id=\"ubc7-search-box\">\n",
      "<form action=\"//www.ubc.ca/search/refine/\" class=\"form-search\" method=\"get\">\n",
      "<input class=\"input-xlarge search-query\" name=\"q\" placeholder=\"Search \" type=\"text\"/>\n",
      "<input name=\"label\" type=\"hidden\" value=\"UBC Master of Data Science\"/>\n",
      "<input name=\"site\" type=\"hidden\" value=\"masterdatascience.ubc.ca\"/>\n",
      "<button class=\"btn btn-primary\" type=\"submit\">Search</button>\n",
      "</form> </div>\n"
     ]
    }
   ],
   "source": [
    "print(form.parent)"
   ]
  },
  {
   "cell_type": "markdown",
   "metadata": {
    "slideshow": {
     "slide_type": "fragment"
    }
   },
   "source": [
    "Other things that can be accessed through a node object: the tag (in the `name` variable), and the attributes (in the `attrs` variable), which can also be accessed by treating the node as a dictionary."
   ]
  },
  {
   "cell_type": "code",
   "execution_count": 30,
   "metadata": {
    "slideshow": {
     "slide_type": "fragment"
    }
   },
   "outputs": [
    {
     "data": {
      "text/plain": [
       "'form'"
      ]
     },
     "execution_count": 30,
     "metadata": {},
     "output_type": "execute_result"
    }
   ],
   "source": [
    "form.name"
   ]
  },
  {
   "cell_type": "code",
   "execution_count": 31,
   "metadata": {},
   "outputs": [
    {
     "data": {
      "text/plain": [
       "{'class': ['form-search'],\n",
       " 'method': 'get',\n",
       " 'action': '//www.ubc.ca/search/refine/'}"
      ]
     },
     "execution_count": 31,
     "metadata": {},
     "output_type": "execute_result"
    }
   ],
   "source": [
    "form.attrs"
   ]
  },
  {
   "cell_type": "code",
   "execution_count": 32,
   "metadata": {},
   "outputs": [
    {
     "data": {
      "text/plain": [
       "['form-search']"
      ]
     },
     "execution_count": 32,
     "metadata": {},
     "output_type": "execute_result"
    }
   ],
   "source": [
    "form[\"class\"]"
   ]
  },
  {
   "cell_type": "markdown",
   "metadata": {
    "slideshow": {
     "slide_type": "fragment"
    }
   },
   "source": [
    "Text is wrapped up in a special object (NavigableString) that form the leaves of the tree. If you want to just grab any and all text under a node in the tree, use [get_text](https://www.crummy.com/software/BeautifulSoup/bs4/doc/#get-text)"
   ]
  },
  {
   "cell_type": "code",
   "execution_count": 34,
   "metadata": {
    "slideshow": {
     "slide_type": "fragment"
    }
   },
   "outputs": [
    {
     "data": {
      "text/plain": [
       "'\\n\\n\\n\\nSearch\\n'"
      ]
     },
     "execution_count": 34,
     "metadata": {},
     "output_type": "execute_result"
    }
   ],
   "source": [
    "form.get_text()"
   ]
  },
  {
   "cell_type": "code",
   "execution_count": 35,
   "metadata": {},
   "outputs": [
    {
     "data": {
      "text/plain": [
       "bs4.element.NavigableString"
      ]
     },
     "execution_count": 35,
     "metadata": {},
     "output_type": "execute_result"
    }
   ],
   "source": [
    "type(form.contents[0])"
   ]
  },
  {
   "cell_type": "code",
   "execution_count": 36,
   "metadata": {},
   "outputs": [
    {
     "data": {
      "text/plain": [
       "bs4.element.Tag"
      ]
     },
     "execution_count": 36,
     "metadata": {},
     "output_type": "execute_result"
    }
   ],
   "source": [
    "type(form.contents[1])"
   ]
  },
  {
   "cell_type": "markdown",
   "metadata": {
    "slideshow": {
     "slide_type": "fragment"
    }
   },
   "source": [
    "Lets work through an exercise together: from the MDS-CL page (https://masterdatascience.ubc.ca/programs/computational-linguistics), we'll get a list of strings which correspond to the text that appears in \"p\" HTML tags whose parent is a div of with \"id\" of \"cl-curriculum\""
   ]
  },
  {
   "cell_type": "code",
   "execution_count": 11,
   "metadata": {
    "slideshow": {
     "slide_type": "-"
    }
   },
   "outputs": [
    {
     "name": "stdout",
     "output_type": "stream",
     "text": [
      "['The program structure includes 24 one-credit courses offered in four-week segments. Courses are lab-oriented and delivered in-person with some blended online content.', 'At the end of the six segments, an eight-week capstone project is also included, allowing students to apply their newly acquired knowledge, while working alongside other students with real-life data sets. Please note that instructors are subject to change.', 'Review Admission Requirements Contact Us With Questions', 'As part of their capstone project, students from UBC’s Master of Data Science program partnered with Finn Ai, to help the banking software company improve their AI assistant’s ability to identify user intents.', 'Examining the company’s existing neural network model, the students were able to identify areas of confusion for the AI and improve customer service.', 'View Full Story']\n"
     ]
    }
   ],
   "source": [
    "strings  = []\n",
    "soup = BeautifulSoup(urlopen(\"http://masterdatascience.ubc.ca/programs/computational-linguistics\"),\"lxml\")\n",
    "for node in soup.find_all(\"p\"):\n",
    "    if node.parent.name == \"div\" and \"id\" in node.parent.attrs and node.parent[\"id\"] == \"cl-curriculum\":\n",
    "        text = node.get_text()\n",
    "        if text.strip():\n",
    "            strings.append(text)\n",
    "print(strings)"
   ]
  }
 ],
 "metadata": {
  "celltoolbar": "Slideshow",
  "kernelspec": {
   "display_name": "Python 3",
   "language": "python",
   "name": "python3"
  },
  "language_info": {
   "codemirror_mode": {
    "name": "ipython",
    "version": 3
   },
   "file_extension": ".py",
   "mimetype": "text/x-python",
   "name": "python",
   "nbconvert_exporter": "python",
   "pygments_lexer": "ipython3",
   "version": "3.7.3"
  }
 },
 "nbformat": 4,
 "nbformat_minor": 4
}
