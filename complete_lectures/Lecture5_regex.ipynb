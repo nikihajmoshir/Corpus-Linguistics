{
 "cells": [
  {
   "cell_type": "markdown",
   "metadata": {
    "slideshow": {
     "slide_type": "slide"
    }
   },
   "source": [
    "# COLX 521 Lecture 5: Regular expressions\n",
    "\n",
    "* Escaping\n",
    "* Basic regular expression syntax\n",
    "* Representing language with regex\n",
    "* Match objects\n",
    "* Advanced regular expression  techniques"
   ]
  },
  {
   "cell_type": "markdown",
   "metadata": {
    "slideshow": {
     "slide_type": "slide"
    }
   },
   "source": [
    "## Escaping"
   ]
  },
  {
   "cell_type": "markdown",
   "metadata": {
    "slideshow": {
     "slide_type": "subslide"
    }
   },
   "source": [
    "\n",
    "When declaring a string literal, you need to escape a character when it would be misinterpreted as having another meaning in the context. For example, when using \"\" to indicate a string, any \" inside the string would need to be escaped, by putting the escape character \\ in front of it. Let's try writing a string literal for *\"I can't,\" he said.*"
   ]
  },
  {
   "cell_type": "code",
   "execution_count": 71,
   "metadata": {
    "slideshow": {
     "slide_type": "-"
    }
   },
   "outputs": [],
   "source": [
    "S1 = \"\\\"I can't,\\\" he said.\"\n",
    "S2 = '\"I can\\'t,\" he said.'"
   ]
  },
  {
   "cell_type": "code",
   "execution_count": 72,
   "metadata": {},
   "outputs": [
    {
     "data": {
      "text/plain": [
       "'\"I can\\'t,\" he said.'"
      ]
     },
     "execution_count": 72,
     "metadata": {},
     "output_type": "execute_result"
    }
   ],
   "source": [
    "S1"
   ]
  },
  {
   "cell_type": "code",
   "execution_count": 65,
   "metadata": {},
   "outputs": [
    {
     "name": "stdout",
     "output_type": "stream",
     "text": [
      "\"I can't you'd he said.\"\n"
     ]
    },
    {
     "data": {
      "text/plain": [
       "'\"I can\\'t you\\'d he said.\"'"
      ]
     },
     "execution_count": 65,
     "metadata": {},
     "output_type": "execute_result"
    }
   ],
   "source": []
  },
  {
   "cell_type": "code",
   "execution_count": 64,
   "metadata": {},
   "outputs": [
    {
     "name": "stdout",
     "output_type": "stream",
     "text": [
      "\"I can't,\" he said.\n"
     ]
    },
    {
     "data": {
      "text/plain": [
       "'\"I can\\'t,\" he said.'"
      ]
     },
     "execution_count": 64,
     "metadata": {},
     "output_type": "execute_result"
    }
   ],
   "source": [
    "print(S1)\n",
    "S1"
   ]
  },
  {
   "cell_type": "code",
   "execution_count": 4,
   "metadata": {},
   "outputs": [
    {
     "name": "stdout",
     "output_type": "stream",
     "text": [
      "\"I can't,\" he said.\n"
     ]
    },
    {
     "data": {
      "text/plain": [
       "'\"I can\\'t,\" he said.'"
      ]
     },
     "execution_count": 4,
     "metadata": {},
     "output_type": "execute_result"
    }
   ],
   "source": [
    "print(S2)\n",
    "S2"
   ]
  },
  {
   "cell_type": "markdown",
   "metadata": {
    "slideshow": {
     "slide_type": "fragment"
    }
   },
   "source": [
    "Though escaping quote characters can usually be avoided in Python, sooner or later you will need to escape the escape character itself, for example in an (MS-DOS) filename."
   ]
  },
  {
   "cell_type": "code",
   "execution_count": 99,
   "metadata": {
    "slideshow": {
     "slide_type": "-"
    }
   },
   "outputs": [],
   "source": [
    "#provided code\n",
    "path1 = \"c:\\files\\videos\"\n",
    "path2 = \"c:\\\\files\\\\videos\""
   ]
  },
  {
   "cell_type": "code",
   "execution_count": 11,
   "metadata": {},
   "outputs": [
    {
     "name": "stdout",
     "output_type": "stream",
     "text": [
      "c:\f",
      "iles\u000b",
      "ideos\n"
     ]
    }
   ],
   "source": [
    "print(path1)"
   ]
  },
  {
   "cell_type": "code",
   "execution_count": 12,
   "metadata": {},
   "outputs": [
    {
     "name": "stdout",
     "output_type": "stream",
     "text": [
      "c:\\files\\videos\n"
     ]
    }
   ],
   "source": [
    "print(path2)"
   ]
  },
  {
   "cell_type": "markdown",
   "metadata": {
    "slideshow": {
     "slide_type": "fragment"
    }
   },
   "source": [
    "There are several characters which can only be expressed using an escape sequence. The most useful of these by far are \\n (newline) and \\t (tab). Here is a [full list](https://docs.python.org/3/reference/lexical_analysis.html#literals), but you're not likely to come across the rest anymore (many of them are related to original typewriter commands)."
   ]
  },
  {
   "cell_type": "code",
   "execution_count": 50,
   "metadata": {
    "scrolled": true,
    "slideshow": {
     "slide_type": "-"
    }
   },
   "outputs": [],
   "source": [
    "#provided code\n",
    "S1 = \"Hi.\\nHow are you?\"\n",
    "S2 = \"the\\t2483\""
   ]
  },
  {
   "cell_type": "code",
   "execution_count": 55,
   "metadata": {},
   "outputs": [
    {
     "name": "stdout",
     "output_type": "stream",
     "text": [
      "Hi.\n",
      "How are you?\n"
     ]
    }
   ],
   "source": [
    "print(S1)"
   ]
  },
  {
   "cell_type": "code",
   "execution_count": 52,
   "metadata": {},
   "outputs": [
    {
     "name": "stdout",
     "output_type": "stream",
     "text": [
      "the\t2483\n"
     ]
    }
   ],
   "source": [
    "print(S2)"
   ]
  },
  {
   "cell_type": "markdown",
   "metadata": {
    "slideshow": {
     "slide_type": "fragment"
    }
   },
   "source": [
    "There are two ways to avoid having to escape backslashes. One is to use the triple quote syntax, which is also popular for commenting"
   ]
  },
  {
   "cell_type": "code",
   "execution_count": 17,
   "metadata": {
    "slideshow": {
     "slide_type": "-"
    }
   },
   "outputs": [
    {
     "data": {
      "text/plain": [
       "'Hi.\\nHow are you.'"
      ]
     },
     "execution_count": 17,
     "metadata": {},
     "output_type": "execute_result"
    }
   ],
   "source": [
    "S = '''Hi.\n",
    "How are you.'''\n",
    "# my code here\n",
    "S\n",
    "# my code here"
   ]
  },
  {
   "cell_type": "markdown",
   "metadata": {
    "slideshow": {
     "slide_type": "fragment"
    }
   },
   "source": [
    "And the other is to use r (for raw) in front of the string literal. You will want to use the latter when writing regular expressions so you don't have to escape everything twice, since regexes also require the use of escape characters (that's why we are talking about them now). To illustrate, suppose we were trying to write a regex to find mentions of a file called new.txt on the C drive...."
   ]
  },
  {
   "cell_type": "code",
   "execution_count": 2,
   "metadata": {
    "slideshow": {
     "slide_type": "fragment"
    }
   },
   "outputs": [
    {
     "name": "stdout",
     "output_type": "stream",
     "text": [
      "<re.Match object; span=(0, 12), match='C:\\\\notes.txt'>\n"
     ]
    }
   ],
   "source": [
    "import re\n",
    "\n",
    "filename = r\"C:\\notes.txt\"\n",
    "\n",
    "# my code here\n",
    "print(re.match(\"C:\\\\\\\\notes\\\\.txt\", filename))\n",
    "# my code here"
   ]
  },
  {
   "cell_type": "markdown",
   "metadata": {
    "slideshow": {
     "slide_type": "slide"
    }
   },
   "source": [
    "## Basic regular expression syntax"
   ]
  },
  {
   "cell_type": "markdown",
   "metadata": {
    "slideshow": {
     "slide_type": "subslide"
    }
   },
   "source": [
    "[Regular expressions](https://docs.python.org/3/library/re.html) (regexes) ultimately represent sets of strings. Their syntax can be tricky, so worth noting that there are websites, (e.g. [this one](https://regex101.com/])) that can help you with writing correct and accurate regexes.\n",
    "\n",
    "When you don't use any special regex syntax, a regular expression represents only the string you give it. Note that if you're doing this, there's a better way using string methods, and for efficiency (regex comes with an overhead) you should use those instead. "
   ]
  },
  {
   "cell_type": "code",
   "execution_count": 3,
   "metadata": {
    "scrolled": true,
    "slideshow": {
     "slide_type": "-"
    }
   },
   "outputs": [
    {
     "data": {
      "text/plain": [
       "<re.Match object; span=(4, 9), match='quick'>"
      ]
     },
     "execution_count": 3,
     "metadata": {},
     "output_type": "execute_result"
    }
   ],
   "source": [
    "regex = \"quick\"\n",
    "S = \"The quick brown fox jumped over the 2 lazy dogs\"\n",
    "# my code here\n",
    "re.search(regex, S)\n",
    "# my code here"
   ]
  },
  {
   "cell_type": "markdown",
   "metadata": {
    "slideshow": {
     "slide_type": "fragment"
    }
   },
   "source": [
    "There are various ways to indicate groups of possible characters, look just above [here](https://docs.python.org/3/library/re.html#module-contents) in the Python docs for a list. Most useful: \".\" indicates any character, \"\\w\" an alphabetic character, \"\\d\" a digit. Carat \"^\" and \"$\" don't indicate characters, but rather the beginning and ending of a string (or sometimes a line)"
   ]
  },
  {
   "cell_type": "code",
   "execution_count": 4,
   "metadata": {
    "slideshow": {
     "slide_type": "-"
    }
   },
   "outputs": [],
   "source": [
    "#provided code\n",
    "regex1 = r\"qu.\\wk\"\n",
    "regex2 = r\"\\d\"\n",
    "regex3 = r\"^dogs\"\n",
    "regex4 = r\"dogs$\""
   ]
  },
  {
   "cell_type": "code",
   "execution_count": 5,
   "metadata": {},
   "outputs": [
    {
     "data": {
      "text/plain": [
       "<re.Match object; span=(4, 9), match='quick'>"
      ]
     },
     "execution_count": 5,
     "metadata": {},
     "output_type": "execute_result"
    }
   ],
   "source": [
    "re.search(regex1,S)"
   ]
  },
  {
   "cell_type": "code",
   "execution_count": 6,
   "metadata": {},
   "outputs": [
    {
     "data": {
      "text/plain": [
       "<re.Match object; span=(36, 37), match='2'>"
      ]
     },
     "execution_count": 6,
     "metadata": {},
     "output_type": "execute_result"
    }
   ],
   "source": [
    "re.search(regex2,S)"
   ]
  },
  {
   "cell_type": "code",
   "execution_count": 7,
   "metadata": {},
   "outputs": [
    {
     "name": "stdout",
     "output_type": "stream",
     "text": [
      "None\n"
     ]
    }
   ],
   "source": [
    "print(re.search(regex3,S))"
   ]
  },
  {
   "cell_type": "code",
   "execution_count": 8,
   "metadata": {},
   "outputs": [
    {
     "data": {
      "text/plain": [
       "<re.Match object; span=(43, 47), match='dogs'>"
      ]
     },
     "execution_count": 8,
     "metadata": {},
     "output_type": "execute_result"
    }
   ],
   "source": [
    "re.search(regex4,S)"
   ]
  },
  {
   "cell_type": "markdown",
   "metadata": {
    "slideshow": {
     "slide_type": "fragment"
    }
   },
   "source": [
    "A specific list of allowed characters can be indicated with brackets (\\[\\]). A hyphen can be used to indicate a range (most commonly A-Z). A bracket with a carat (\"^\") immediately after the first bracket indicates a set of *dis*allowed characters, often very useful for identifying things like matching parenthesis, brackets, etc."
   ]
  },
  {
   "cell_type": "code",
   "execution_count": 100,
   "metadata": {
    "slideshow": {
     "slide_type": "-"
    }
   },
   "outputs": [],
   "source": [
    "#provided code\n",
    "regex1 = r\"[Tt]he\"\n",
    "regex2 = r\" [a-z][a-z][a-z] \"\n",
    "regex3 = r\"[^aeiou ][^aeiou ][^aeiou ]\"\n",
    "regex4 = r\" [^aeiou ][^aeiou ]\""
   ]
  },
  {
   "cell_type": "code",
   "execution_count": 37,
   "metadata": {},
   "outputs": [
    {
     "data": {
      "text/plain": [
       "<_sre.SRE_Match object; span=(0, 3), match='The'>"
      ]
     },
     "execution_count": 37,
     "metadata": {},
     "output_type": "execute_result"
    }
   ],
   "source": [
    "re.search(regex1, S)"
   ]
  },
  {
   "cell_type": "code",
   "execution_count": 38,
   "metadata": {},
   "outputs": [
    {
     "data": {
      "text/plain": [
       "<_sre.SRE_Match object; span=(15, 20), match=' fox '>"
      ]
     },
     "execution_count": 38,
     "metadata": {},
     "output_type": "execute_result"
    }
   ],
   "source": [
    "re.search(regex2, S)"
   ]
  },
  {
   "cell_type": "code",
   "execution_count": 39,
   "metadata": {},
   "outputs": [],
   "source": [
    "re.search(regex3, S)"
   ]
  },
  {
   "cell_type": "code",
   "execution_count": 42,
   "metadata": {},
   "outputs": [
    {
     "data": {
      "text/plain": [
       "<_sre.SRE_Match object; span=(9, 12), match=' br'>"
      ]
     },
     "execution_count": 42,
     "metadata": {},
     "output_type": "execute_result"
    }
   ],
   "source": [
    "re.search(regex4, S)"
   ]
  },
  {
   "cell_type": "markdown",
   "metadata": {
    "slideshow": {
     "slide_type": "fragment"
    }
   },
   "source": [
    "A character followed by a question mark \"?\" indicates optionality. You can represent any number of a character with \"\\*\", or \"+\" if you want there to be at least one. A specific number of instances (or a range) can be indicated by including a number in curly brackets ({})."
   ]
  },
  {
   "cell_type": "code",
   "execution_count": 10,
   "metadata": {
    "slideshow": {
     "slide_type": "-"
    }
   },
   "outputs": [],
   "source": [
    "#provided code\n",
    "S1 = '\"Yes\"'\n",
    "S2 = '\"No\"'\n",
    "S3 = '\"\"'"
   ]
  },
  {
   "cell_type": "code",
   "execution_count": 11,
   "metadata": {},
   "outputs": [],
   "source": [
    "#provided code\n",
    "regex1 = r'^\"[^\"]+\"$'"
   ]
  },
  {
   "cell_type": "code",
   "execution_count": 12,
   "metadata": {},
   "outputs": [
    {
     "data": {
      "text/plain": [
       "<re.Match object; span=(0, 5), match='\"Yes\"'>"
      ]
     },
     "execution_count": 12,
     "metadata": {},
     "output_type": "execute_result"
    }
   ],
   "source": [
    "re.search(regex1, S1)"
   ]
  },
  {
   "cell_type": "code",
   "execution_count": 13,
   "metadata": {},
   "outputs": [
    {
     "data": {
      "text/plain": [
       "<re.Match object; span=(0, 4), match='\"No\"'>"
      ]
     },
     "execution_count": 13,
     "metadata": {},
     "output_type": "execute_result"
    }
   ],
   "source": [
    "re.search(regex1, S2)"
   ]
  },
  {
   "cell_type": "code",
   "execution_count": 14,
   "metadata": {},
   "outputs": [],
   "source": [
    "re.search(regex1, S3)"
   ]
  },
  {
   "cell_type": "code",
   "execution_count": 15,
   "metadata": {},
   "outputs": [],
   "source": [
    "#provided code\n",
    "regex2 = r'^\"[^\"]*\"$'"
   ]
  },
  {
   "cell_type": "code",
   "execution_count": 16,
   "metadata": {},
   "outputs": [
    {
     "data": {
      "text/plain": [
       "<re.Match object; span=(0, 5), match='\"Yes\"'>"
      ]
     },
     "execution_count": 16,
     "metadata": {},
     "output_type": "execute_result"
    }
   ],
   "source": [
    "re.search(regex2, S1)"
   ]
  },
  {
   "cell_type": "code",
   "execution_count": 17,
   "metadata": {},
   "outputs": [
    {
     "data": {
      "text/plain": [
       "<re.Match object; span=(0, 2), match='\"\"'>"
      ]
     },
     "execution_count": 17,
     "metadata": {},
     "output_type": "execute_result"
    }
   ],
   "source": [
    "re.search(regex2, S3)"
   ]
  },
  {
   "cell_type": "code",
   "execution_count": 18,
   "metadata": {},
   "outputs": [],
   "source": [
    "#provided code\n",
    "regex3 = r'^\"[^\"]{3}\"$'"
   ]
  },
  {
   "cell_type": "code",
   "execution_count": 19,
   "metadata": {},
   "outputs": [
    {
     "data": {
      "text/plain": [
       "<re.Match object; span=(0, 5), match='\"Yes\"'>"
      ]
     },
     "execution_count": 19,
     "metadata": {},
     "output_type": "execute_result"
    }
   ],
   "source": [
    "re.search(regex3, S1)"
   ]
  },
  {
   "cell_type": "code",
   "execution_count": 55,
   "metadata": {},
   "outputs": [],
   "source": [
    "re.search(regex3, S2)"
   ]
  },
  {
   "cell_type": "code",
   "execution_count": 102,
   "metadata": {},
   "outputs": [],
   "source": [
    "#provided code\n",
    "regex4 = r'^\"[^\"]{2}.?\"$'"
   ]
  },
  {
   "cell_type": "code",
   "execution_count": 56,
   "metadata": {},
   "outputs": [
    {
     "data": {
      "text/plain": [
       "<_sre.SRE_Match object; span=(0, 5), match='\"Yes\"'>"
      ]
     },
     "execution_count": 56,
     "metadata": {},
     "output_type": "execute_result"
    }
   ],
   "source": [
    "re.search(regex4, S1)"
   ]
  },
  {
   "cell_type": "code",
   "execution_count": 57,
   "metadata": {},
   "outputs": [
    {
     "data": {
      "text/plain": [
       "<_sre.SRE_Match object; span=(0, 4), match='\"No\"'>"
      ]
     },
     "execution_count": 57,
     "metadata": {},
     "output_type": "execute_result"
    }
   ],
   "source": [
    "re.search(regex4, S2)"
   ]
  },
  {
   "cell_type": "markdown",
   "metadata": {
    "slideshow": {
     "slide_type": "fragment"
    }
   },
   "source": [
    "Use parenthesis to group sequences of \"characters\" (including other groups). This can be used together with ?,\\*,and +, and is necessary to make good use of the pipe operator (|) which in regex means *or*. Note that whereas both \\[\\] and | can be used to list options, \\[\\] only represents individual characters, and | should be used for larger groups  "
   ]
  },
  {
   "cell_type": "code",
   "execution_count": 25,
   "metadata": {
    "slideshow": {
     "slide_type": "-"
    }
   },
   "outputs": [],
   "source": [
    "#provided code\n",
    "S = \"This is a sentence, I think. But I'm not sure, are you? You are!\""
   ]
  },
  {
   "cell_type": "code",
   "execution_count": 27,
   "metadata": {},
   "outputs": [
    {
     "name": "stdout",
     "output_type": "stream",
     "text": [
      "<re.Match object; span=(0, 5), match='This '>\n"
     ]
    }
   ],
   "source": [
    "regex = r\"(^|[.?!,;] )\\w+ \"\n",
    "\n",
    "for result in re.finditer(regex,S):\n",
    "    print(result)"
   ]
  },
  {
   "cell_type": "code",
   "execution_count": 65,
   "metadata": {},
   "outputs": [],
   "source": [
    "# provided code\n",
    "S = \"I have two front teeth but one tooth is loose.\""
   ]
  },
  {
   "cell_type": "code",
   "execution_count": null,
   "metadata": {},
   "outputs": [],
   "source": [
    "regex2 = r\"t(ee|oo)th\"\n",
    "for result in re.finditer(regex1,S1):\n",
    "    print(result)"
   ]
  },
  {
   "cell_type": "markdown",
   "metadata": {
    "slideshow": {
     "slide_type": "fragment"
    }
   },
   "source": [
    "Note that special regex characters need to escaped when they appear outside of brackets. "
   ]
  },
  {
   "cell_type": "code",
   "execution_count": 28,
   "metadata": {
    "slideshow": {
     "slide_type": "-"
    }
   },
   "outputs": [
    {
     "name": "stdout",
     "output_type": "stream",
     "text": [
      "<re.Match object; span=(0, 7), match='345.955'>\n",
      "None\n"
     ]
    }
   ],
   "source": [
    "S1 = \"345.955\"\n",
    "S2 = \"96504\"\n",
    "\n",
    "# my code here\n",
    "\n",
    "regex = r\"\\d+\\.\\d+\"\n",
    "\n",
    "# my code here\n",
    "\n",
    "print(re.match(regex,S1))\n",
    "print(re.match(regex,S2))"
   ]
  },
  {
   "cell_type": "markdown",
   "metadata": {
    "slideshow": {
     "slide_type": "slide"
    }
   },
   "source": [
    "## Representing language with regex"
   ]
  },
  {
   "cell_type": "markdown",
   "metadata": {
    "slideshow": {
     "slide_type": "subslide"
    }
   },
   "source": [
    "Much basic linguistic phenomena can be represented with regular expressions. Let's first write a regex that could match possible inflections of a regular English verb"
   ]
  },
  {
   "cell_type": "code",
   "execution_count": 81,
   "metadata": {
    "slideshow": {
     "slide_type": "-"
    }
   },
   "outputs": [
    {
     "name": "stdout",
     "output_type": "stream",
     "text": [
      "<_sre.SRE_Match object; span=(0, 4), match='Jump'>\n",
      "<_sre.SRE_Match object; span=(0, 5), match='jumps'>\n",
      "<_sre.SRE_Match object; span=(0, 6), match='jumped'>\n",
      "<_sre.SRE_Match object; span=(0, 7), match='jumping'>\n"
     ]
    }
   ],
   "source": [
    "forms = [\"Jump\",\"jumps\",\"jumped\",\"jumping\"]\n",
    "\n",
    "# my code here\n",
    "regex = r\"[jJ]ump(s|ed|ing)?\"\n",
    "# my code here\n",
    "\n",
    "for form in forms:\n",
    "    print(re.match(regex,form))"
   ]
  },
  {
   "cell_type": "markdown",
   "metadata": {
    "slideshow": {
     "slide_type": "fragment"
    }
   },
   "source": [
    "Exercise: Create a regex like the above, but one that can handle all forms of the verb \"catch\" and not invalid forms"
   ]
  },
  {
   "cell_type": "code",
   "execution_count": 80,
   "metadata": {
    "slideshow": {
     "slide_type": "-"
    }
   },
   "outputs": [
    {
     "name": "stdout",
     "output_type": "stream",
     "text": [
      "<_sre.SRE_Match object; span=(0, 5), match='catch'>\n",
      "<_sre.SRE_Match object; span=(0, 7), match='catches'>\n",
      "<_sre.SRE_Match object; span=(0, 6), match='caught'>\n",
      "<_sre.SRE_Match object; span=(0, 8), match='catching'>\n",
      "None\n",
      "None\n"
     ]
    }
   ],
   "source": [
    "forms = [\"catch\", \"catches\", \"caught\", \"catching\"]\n",
    "invalid = [\"catched\",\"catchs\"]\n",
    "\n",
    "# your code here\n",
    "regex = r\"(catch(es|ing)?$|caught)\"\n",
    "# your code here\n",
    "for form in forms:\n",
    "    print(re.match(regex,form))\n",
    "    \n",
    "for form in invalid:\n",
    "     print(re.match(regex,form))   "
   ]
  },
  {
   "cell_type": "markdown",
   "metadata": {
    "slideshow": {
     "slide_type": "fragment"
    }
   },
   "source": [
    "Relatively fixed phrases can often be represented fairly accurately with regular expresssions. What about if we wanted to find forms of the phrase *blow someone's mind*?"
   ]
  },
  {
   "cell_type": "code",
   "execution_count": 14,
   "metadata": {
    "slideshow": {
     "slide_type": "-"
    }
   },
   "outputs": [
    {
     "name": "stdout",
     "output_type": "stream",
     "text": [
      "<re.Match object; span=(0, 14), match='blow your mind'>\n",
      "<re.Match object; span=(0, 12), match='blew my mind'>\n",
      "<re.Match object; span=(0, 19), match=\"blowing John's mind\">\n"
     ]
    }
   ],
   "source": [
    "test_cases = [\"blow your mind\", \"blew my mind\",\"blowing John's mind\"]\n",
    "\n",
    "# my code here\n",
    "regex = r\"bl[oe]w(s|ing)? (his|my|her|your|our|their|[A-Z]\\w+'s) mind\"\n",
    "# my code here\n",
    "\n",
    "for test_case in test_cases:\n",
    "    print(re.match(regex,test_case))"
   ]
  },
  {
   "cell_type": "markdown",
   "metadata": {
    "slideshow": {
     "slide_type": "fragment"
    }
   },
   "source": [
    "We can also use regular expressions to model very simple languages. Let's create a regex that will match all sentences that can be created by the following verbs and nouns."
   ]
  },
  {
   "cell_type": "code",
   "execution_count": 3,
   "metadata": {
    "slideshow": {
     "slide_type": "-"
    }
   },
   "outputs": [
    {
     "name": "stdout",
     "output_type": "stream",
     "text": [
      "^(People|Dogs|Cats|Mice|Computers) (like|eat|obey) (people|dogs|cats|mice|computers)\\.$\n",
      "<_sre.SRE_Match object; span=(0, 14), match='Cats eat mice.'>\n",
      "<_sre.SRE_Match object; span=(0, 22), match='People like computers.'>\n",
      "<_sre.SRE_Match object; span=(0, 17), match='Dogs obey people.'>\n"
     ]
    }
   ],
   "source": [
    "nouns = [\"people\", \"dogs\", \"cats\", \"mice\", \"computers\"]\n",
    "verbs = [\"like\", \"eat\", \"obey\"]\n",
    "test_cases = [\"Cats eat mice.\", \"People like computers.\",\"Dogs obey people.\"]\n",
    "\n",
    "#my code here\n",
    "regex = r\"^(\" + \"|\".join([noun.title() for noun in nouns]) + \") (\" + \"|\".join(verbs) + \") (\" + \"|\".join(nouns) + \")\\.$\"\n",
    "print(regex)\n",
    "#my code here\n",
    "\n",
    "for test_case in test_cases:\n",
    "    print(re.match(regex,test_case))\n"
   ]
  },
  {
   "cell_type": "markdown",
   "metadata": {
    "slideshow": {
     "slide_type": "fragment"
    }
   },
   "source": [
    "Larger chunks of language get increasingly more challenging to represent well using regexes without making assumptions that either miss cases or overgeneralize. Let's try to represent the basic structure of a list (3 or items) in (written) English."
   ]
  },
  {
   "cell_type": "code",
   "execution_count": 29,
   "metadata": {
    "slideshow": {
     "slide_type": "-"
    }
   },
   "outputs": [
    {
     "data": {
      "text/plain": [
       "<re.Match object; span=(0, 20), match='red, green, and blue'>"
      ]
     },
     "execution_count": 29,
     "metadata": {},
     "output_type": "execute_result"
    }
   ],
   "source": [
    "simple_list = \"red, green, and blue\"\n",
    "# my code here\n",
    "regex = r\"(\\w+, )+and \\w+\"\n",
    "# my code here\n",
    "re.match(regex,simple_list)"
   ]
  },
  {
   "cell_type": "markdown",
   "metadata": {
    "slideshow": {
     "slide_type": "fragment"
    }
   },
   "source": [
    "Exercise: Come up with a case of a list that isn't covered by what we just did (and show that it isn't). Modify the regular expression so that it is covered. Now come up with a case that isn't a list but that would be matched by the regex you just wrote."
   ]
  },
  {
   "cell_type": "code",
   "execution_count": 30,
   "metadata": {
    "slideshow": {
     "slide_type": "-"
    }
   },
   "outputs": [
    {
     "name": "stdout",
     "output_type": "stream",
     "text": [
      "None\n"
     ]
    }
   ],
   "source": [
    "other_list = \"red, green and blue\"\n",
    "print(re.match(regex,other_list))"
   ]
  },
  {
   "cell_type": "code",
   "execution_count": 104,
   "metadata": {},
   "outputs": [
    {
     "name": "stdout",
     "output_type": "stream",
     "text": [
      "<_sre.SRE_Match object; span=(0, 19), match='red, green and blue'>\n"
     ]
    }
   ],
   "source": [
    "new_regex = r\"(\\w+,? )+and \\w+\"\n",
    "print(re.match(new_regex,other_list))"
   ]
  },
  {
   "cell_type": "code",
   "execution_count": 105,
   "metadata": {},
   "outputs": [
    {
     "name": "stdout",
     "output_type": "stream",
     "text": [
      "<_sre.SRE_Match object; span=(0, 17), match='not fun and games'>\n"
     ]
    }
   ],
   "source": [
    "not_a_list = \"not fun and games\"\n",
    "print(re.match(new_regex,not_a_list))"
   ]
  },
  {
   "cell_type": "markdown",
   "metadata": {
    "slideshow": {
     "slide_type": "fragment"
    }
   },
   "source": [
    "Fun fact: There are languages which provably cannot be represented by a regular expression. However, English is not one of them! Representing English (or any human language) by regex would be very, very painful, however. I do not recommend it. There are much better representations which we will talk about later in the program."
   ]
  },
  {
   "cell_type": "markdown",
   "metadata": {
    "slideshow": {
     "slide_type": "slide"
    }
   },
   "source": [
    "### Match Objects"
   ]
  },
  {
   "cell_type": "markdown",
   "metadata": {
    "slideshow": {
     "slide_type": "subslide"
    }
   },
   "source": [
    "If you just want to see if a string is one of those the set of strings your regex defines, use the [match](https://docs.python.org/3/library/re.html#re.match) method. However, if you want to find a (single) match within a larger span of text, use [search](https://docs.python.org/3/library/re.html#re.search). Use [finditer](https://docs.python.org/3/library/re.html#re.finditer) if you want multiple matches."
   ]
  },
  {
   "cell_type": "code",
   "execution_count": 44,
   "metadata": {
    "slideshow": {
     "slide_type": "-"
    }
   },
   "outputs": [],
   "source": [
    "#provided code\n",
    "regex = r\"[Jj]ump(s|ed|ing)?\"\n",
    "\n",
    "S1 = \"jumps\"\n",
    "S2 = \"Stop jumping on the bed\"\n",
    "S3 = \"Jumped off the bus and jumped on the subway\""
   ]
  },
  {
   "cell_type": "code",
   "execution_count": 32,
   "metadata": {},
   "outputs": [
    {
     "name": "stdout",
     "output_type": "stream",
     "text": [
      "<re.Match object; span=(0, 5), match='jumps'>\n"
     ]
    }
   ],
   "source": [
    "print(re.match(regex,S1))"
   ]
  },
  {
   "cell_type": "code",
   "execution_count": null,
   "metadata": {},
   "outputs": [],
   "source": [
    "print(re.match(regex,S2))"
   ]
  },
  {
   "cell_type": "code",
   "execution_count": null,
   "metadata": {},
   "outputs": [],
   "source": [
    "print(re.search(regex,S2))"
   ]
  },
  {
   "cell_type": "code",
   "execution_count": 45,
   "metadata": {},
   "outputs": [
    {
     "name": "stdout",
     "output_type": "stream",
     "text": [
      "<re.Match object; span=(0, 6), match='Jumped'>\n",
      "<re.Match object; span=(23, 29), match='jumped'>\n"
     ]
    }
   ],
   "source": [
    "for match in re.finditer(regex,S3):\n",
    "    print(match)"
   ]
  },
  {
   "cell_type": "markdown",
   "metadata": {
    "slideshow": {
     "slide_type": "fragment"
    }
   },
   "source": [
    "All these functions return [match objects](https://docs.python.org/3/library/re.html#match-objects), which evalute to True (if you only need to check if a search was successful) but also allow you to access the specific match, using [group](https://docs.python.org/3/library/re.html#re.Match.group) and its position in the string, via the [start](https://docs.python.org/3/library/re.html#re.Match.start) and [end](https://docs.python.org/3/library/re.html#re.Match.end) methods. \n"
   ]
  },
  {
   "cell_type": "code",
   "execution_count": 46,
   "metadata": {
    "slideshow": {
     "slide_type": "-"
    }
   },
   "outputs": [],
   "source": [
    "#provided code\n",
    "match = re.search(regex,S2)"
   ]
  },
  {
   "cell_type": "code",
   "execution_count": 47,
   "metadata": {},
   "outputs": [
    {
     "name": "stdout",
     "output_type": "stream",
     "text": [
      "A match!\n"
     ]
    }
   ],
   "source": [
    "if match:\n",
    "    print(\"A match!\")"
   ]
  },
  {
   "cell_type": "code",
   "execution_count": 48,
   "metadata": {},
   "outputs": [
    {
     "name": "stdout",
     "output_type": "stream",
     "text": [
      "jumping\n"
     ]
    }
   ],
   "source": [
    "print(match.group())"
   ]
  },
  {
   "cell_type": "code",
   "execution_count": 49,
   "metadata": {},
   "outputs": [
    {
     "data": {
      "text/plain": [
       "'Stop sjdadhjadha '"
      ]
     },
     "execution_count": 49,
     "metadata": {},
     "output_type": "execute_result"
    }
   ],
   "source": [
    "S2[:match.start()]"
   ]
  },
  {
   "cell_type": "code",
   "execution_count": 50,
   "metadata": {},
   "outputs": [
    {
     "data": {
      "text/plain": [
       "' askjdajdlasjdlkj on the bed'"
      ]
     },
     "execution_count": 50,
     "metadata": {},
     "output_type": "execute_result"
    }
   ],
   "source": [
    "S2[match.end():]"
   ]
  },
  {
   "cell_type": "markdown",
   "metadata": {
    "slideshow": {
     "slide_type": "fragment"
    }
   },
   "source": [
    "In additional to the whole string, including parenthesis in your regex also allows you to access particular parts of the match, also using the group method. The first set of parenthesis will correspond to group(1), etc."
   ]
  },
  {
   "cell_type": "code",
   "execution_count": 87,
   "metadata": {
    "slideshow": {
     "slide_type": "-"
    }
   },
   "outputs": [],
   "source": [
    "# provided code\n",
    "S = \"Stop jumping on the bed\"\n",
    "regex = r\"([Jj]ump)(s|ed|ing)?\"\n",
    "match = re.search(regex,S)\n"
   ]
  },
  {
   "cell_type": "code",
   "execution_count": 88,
   "metadata": {},
   "outputs": [
    {
     "data": {
      "text/plain": [
       "'jumping'"
      ]
     },
     "execution_count": 88,
     "metadata": {},
     "output_type": "execute_result"
    }
   ],
   "source": [
    "match.group(0)"
   ]
  },
  {
   "cell_type": "code",
   "execution_count": 89,
   "metadata": {},
   "outputs": [
    {
     "data": {
      "text/plain": [
       "'jump'"
      ]
     },
     "execution_count": 89,
     "metadata": {},
     "output_type": "execute_result"
    }
   ],
   "source": [
    "match.group(1)"
   ]
  },
  {
   "cell_type": "code",
   "execution_count": 90,
   "metadata": {},
   "outputs": [
    {
     "data": {
      "text/plain": [
       "'ing'"
      ]
     },
     "execution_count": 90,
     "metadata": {},
     "output_type": "execute_result"
    }
   ],
   "source": [
    "match.group(2)"
   ]
  },
  {
   "cell_type": "markdown",
   "metadata": {
    "slideshow": {
     "slide_type": "slide"
    }
   },
   "source": [
    "## Advanced regular expression techniques"
   ]
  },
  {
   "cell_type": "markdown",
   "metadata": {
    "slideshow": {
     "slide_type": "fragment"
    }
   },
   "source": [
    "Another useful method is [sub](https://docs.python.org/3/library/re.html#re.sub), which creates a new version of the input string with substitutions made. This is similar to the string method `replace`, but it is a lot more flexible (though if you are just replacing a fixed string with a fixed string, much better to use replace!). You can specify strings pulled out from the match within your replacement string using \\1, \\2, etc. where the number corresponds to the group number."
   ]
  },
  {
   "cell_type": "code",
   "execution_count": 57,
   "metadata": {
    "slideshow": {
     "slide_type": "-"
    }
   },
   "outputs": [
    {
     "name": "stdout",
     "output_type": "stream",
     "text": [
      "2019\n",
      "This is August 4th, 2019 (8/4/2019)\n"
     ]
    }
   ],
   "source": [
    "S = \"This is August 4th, 2019 (4/8/2019)\"\n",
    "\n",
    "regex = r\"(\\d\\d?)/(\\d\\d?)/(\\d\\d\\d?\\d?)\"\n",
    "match = re.search(regex,S)\n",
    "print(match.group(3))\n",
    "\n",
    "# my code here\n",
    "print(re.sub(regex, r\"\\2/\\1/\\3\", S))\n",
    "# my code here"
   ]
  },
  {
   "cell_type": "markdown",
   "metadata": {
    "slideshow": {
     "slide_type": "subslide"
    }
   },
   "source": [
    "If you are going to use a particular regular expression multiple times, it is a good idea to [compile](https://docs.python.org/3/library/re.html#re.compile) it once, and just use the methods of the compiled regular expression objects, which are equivalent to the re module functions except there is no need to specify the regex.\n"
   ]
  },
  {
   "cell_type": "code",
   "execution_count": 96,
   "metadata": {
    "slideshow": {
     "slide_type": "-"
    }
   },
   "outputs": [
    {
     "name": "stdout",
     "output_type": "stream",
     "text": [
      "<_sre.SRE_Match object; span=(0, 5), match='jumps'>\n",
      "<_sre.SRE_Match object; span=(5, 12), match='jumping'>\n",
      "<_sre.SRE_Match object; span=(0, 6), match='Jumped'>\n"
     ]
    }
   ],
   "source": [
    "#provided code\n",
    "texts = [\"jumps\", \"Stop jumping on the bed\", \"Jumped off the bus and jumped on the subway\"]\n",
    "regex = r\"[Jj]ump(s|ed|ing)?\"\n",
    "\n",
    "compiled = re.compile(regex)\n",
    "for text in texts:\n",
    "    print(compiled.search(text))\n"
   ]
  },
  {
   "cell_type": "markdown",
   "metadata": {
    "slideshow": {
     "slide_type": "fragment"
    }
   },
   "source": [
    "For efficiency or clarity, you may want to group elements in your regex without causing them to becoming a group in the resulting match object. Use (?:..) instead of (...)"
   ]
  },
  {
   "cell_type": "code",
   "execution_count": 58,
   "metadata": {
    "slideshow": {
     "slide_type": "-"
    }
   },
   "outputs": [
    {
     "name": "stdout",
     "output_type": "stream",
     "text": [
      "<re.Match object; span=(0, 5), match='jumps'>\n"
     ]
    },
    {
     "ename": "IndexError",
     "evalue": "no such group",
     "output_type": "error",
     "traceback": [
      "\u001b[0;31m---------------------------------------------------------------------------\u001b[0m",
      "\u001b[0;31mIndexError\u001b[0m                                Traceback (most recent call last)",
      "\u001b[0;32m<ipython-input-58-d5f5cac9ae63>\u001b[0m in \u001b[0;36m<module>\u001b[0;34m\u001b[0m\n\u001b[1;32m      4\u001b[0m \u001b[0mmatch\u001b[0m \u001b[0;34m=\u001b[0m \u001b[0mre\u001b[0m\u001b[0;34m.\u001b[0m\u001b[0mmatch\u001b[0m\u001b[0;34m(\u001b[0m\u001b[0mregex\u001b[0m\u001b[0;34m,\u001b[0m\u001b[0mS\u001b[0m\u001b[0;34m)\u001b[0m\u001b[0;34m\u001b[0m\u001b[0;34m\u001b[0m\u001b[0m\n\u001b[1;32m      5\u001b[0m \u001b[0mprint\u001b[0m\u001b[0;34m(\u001b[0m\u001b[0mmatch\u001b[0m\u001b[0;34m)\u001b[0m\u001b[0;34m\u001b[0m\u001b[0;34m\u001b[0m\u001b[0m\n\u001b[0;32m----> 6\u001b[0;31m \u001b[0mmatch\u001b[0m\u001b[0;34m.\u001b[0m\u001b[0mgroup\u001b[0m\u001b[0;34m(\u001b[0m\u001b[0;36m1\u001b[0m\u001b[0;34m)\u001b[0m\u001b[0;34m\u001b[0m\u001b[0;34m\u001b[0m\u001b[0m\n\u001b[0m\u001b[1;32m      7\u001b[0m \u001b[0;31m# my code here\u001b[0m\u001b[0;34m\u001b[0m\u001b[0;34m\u001b[0m\u001b[0;34m\u001b[0m\u001b[0m\n",
      "\u001b[0;31mIndexError\u001b[0m: no such group"
     ]
    }
   ],
   "source": [
    "regex = r\"[Jj]ump(?:s|ed|ing)?\"\n",
    "S = \"jumps\"\n",
    "# my code here\n",
    "match = re.match(regex,S)\n",
    "print(match)\n",
    "match.group(1)\n",
    "# my code here"
   ]
  },
  {
   "cell_type": "markdown",
   "metadata": {
    "slideshow": {
     "slide_type": "fragment"
    }
   },
   "source": [
    "Python also has syntax that lets you check to see if a *fixed size* string appears directly before or after the string you are looking for; this is known as a positive lookahead (?=...) or lookback (?<=...) assertion. The same functionality can be generally be accomplished by matching the larger string and then getting the group you want. "
   ]
  },
  {
   "cell_type": "code",
   "execution_count": 81,
   "metadata": {
    "slideshow": {
     "slide_type": "-"
    }
   },
   "outputs": [
    {
     "name": "stdout",
     "output_type": "stream",
     "text": [
      "<re.Match object; span=(55, 66), match='expressions'>\n"
     ]
    },
    {
     "data": {
      "text/plain": [
       "'Why do you make that expression when I mention regular '"
      ]
     },
     "execution_count": 81,
     "metadata": {},
     "output_type": "execute_result"
    }
   ],
   "source": [
    "#provided code\n",
    "S = \"Why do you make that expression when I mention regular expressions?\"\n",
    "regex = r\"(?<=[Rr]egular )[Ee]xpressions?\"\n",
    "\n",
    "for match in re.finditer(regex,S):\n",
    "    print(match)\n",
    "S[:match.start()]\n"
   ]
  },
  {
   "cell_type": "markdown",
   "metadata": {
    "slideshow": {
     "slide_type": "fragment"
    }
   },
   "source": [
    "More useful is are the negative lookahead (?!...) and lookback (?<!...) assertions, which allows you to match only when a string doesn't appear. For instance, you could pull out instances of a word except when it appears in a context you aren't interested in."
   ]
  },
  {
   "cell_type": "code",
   "execution_count": 85,
   "metadata": {
    "slideshow": {
     "slide_type": "-"
    }
   },
   "outputs": [
    {
     "name": "stdout",
     "output_type": "stream",
     "text": [
      "<re.Match object; span=(21, 31), match='expression'>\n"
     ]
    }
   ],
   "source": [
    "#provided code\n",
    "regex = r\"(?<![Rr]egular )[Ee]xpressions?\"\n",
    "for match in re.finditer(regex,S):\n",
    "    print(match)\n"
   ]
  },
  {
   "cell_type": "code",
   "execution_count": null,
   "metadata": {},
   "outputs": [],
   "source": []
  }
 ],
 "metadata": {
  "celltoolbar": "Slideshow",
  "kernelspec": {
   "display_name": "Python 3",
   "language": "python",
   "name": "python3"
  },
  "language_info": {
   "codemirror_mode": {
    "name": "ipython",
    "version": 3
   },
   "file_extension": ".py",
   "mimetype": "text/x-python",
   "name": "python",
   "nbconvert_exporter": "python",
   "pygments_lexer": "ipython3",
   "version": "3.7.3"
  }
 },
 "nbformat": 4,
 "nbformat_minor": 4
}
