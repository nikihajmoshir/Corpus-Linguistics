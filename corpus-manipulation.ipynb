{
 "cells": [
  {
   "cell_type": "code",
   "execution_count": 1,
   "metadata": {},
   "outputs": [
    {
     "name": "stderr",
     "output_type": "stream",
     "text": [
      "[nltk_data] Downloading package treebank to /Users/niki/nltk_data...\n",
      "[nltk_data]   Package treebank is already up-to-date!\n",
      "[nltk_data] Downloading package cmudict to /Users/niki/nltk_data...\n",
      "[nltk_data]   Package cmudict is already up-to-date!\n",
      "[nltk_data] Downloading package brown to /Users/niki/nltk_data...\n",
      "[nltk_data]   Package brown is already up-to-date!\n",
      "[nltk_data] Downloading package movie_reviews to\n",
      "[nltk_data]     /Users/niki/nltk_data...\n",
      "[nltk_data]   Package movie_reviews is already up-to-date!\n"
     ]
    },
    {
     "data": {
      "text/plain": [
       "True"
      ]
     },
     "execution_count": 1,
     "metadata": {},
     "output_type": "execute_result"
    }
   ],
   "source": [
    "import nltk\n",
    "nltk.download(\"treebank\")\n",
    "nltk.download(\"cmudict\")\n",
    "nltk.download(\"brown\")\n",
    "nltk.download(\"movie_reviews\")"
   ]
  },
  {
   "cell_type": "code",
   "execution_count": 2,
   "metadata": {},
   "outputs": [],
   "source": [
    "from nltk.corpus import treebank,cmudict,brown,movie_reviews"
   ]
  },
  {
   "cell_type": "markdown",
   "metadata": {},
   "source": [
    "## POS ambiguity"
   ]
  },
  {
   "cell_type": "markdown",
   "metadata": {},
   "source": [
    "iterate through the Penn treebank corpus and count the number of times the word \"fight\" appears as a noun (the POS starts with NN) or a verb (starts with VB)"
   ]
  },
  {
   "cell_type": "code",
   "execution_count": 3,
   "metadata": {},
   "outputs": [
    {
     "name": "stdout",
     "output_type": "stream",
     "text": [
      "43\n",
      "55\n"
     ]
    }
   ],
   "source": [
    "verb_count = 0\n",
    "noun_count = 0\n",
    "\n",
    "for word, POS in brown.tagged_words():\n",
    "    if word.lower()==\"fight\":\n",
    "        if POS.startswith(\"NN\"):\n",
    "            noun_count +=1\n",
    "        elif POS.startswith(\"VB\"):\n",
    "            verb_count+=1\n",
    "    \n",
    "print(verb_count)\n",
    "print(noun_count)\n",
    "\n"
   ]
  },
  {
   "cell_type": "markdown",
   "metadata": {},
   "source": [
    "a dictionary of dictionaries which contains information about how often different POS appear for all the words in the corpus"
   ]
  },
  {
   "cell_type": "code",
   "execution_count": 4,
   "metadata": {},
   "outputs": [
    {
     "name": "stdout",
     "output_type": "stream",
     "text": [
      "{'NN': 55, 'VB': 43}\n"
     ]
    }
   ],
   "source": [
    "sub_dict={}\n",
    "POS_tag_lexicon = {}\n",
    "for word, POS in brown.tagged_words():\n",
    "    word=word.lower()\n",
    "    POS=POS[:2]\n",
    "    if word not in POS_tag_lexicon:\n",
    "        POS_tag_lexicon[word]= {}\n",
    "    sub_dict = POS_tag_lexicon[word]\n",
    "    sub_dict[POS]= sub_dict.get(POS, 0) + 1\n",
    "    \n",
    "    \n",
    "print(POS_tag_lexicon[\"fight\"])"
   ]
  },
  {
   "cell_type": "markdown",
   "metadata": {},
   "source": [
    "### Homophones"
   ]
  },
  {
   "cell_type": "markdown",
   "metadata": {},
   "source": [
    "The CMU pronouncing dictionary, which is accessible using NLTK, contains information about the pronounciation of words. It is a dictionary whose keys are word types and whose values are lists of pronounciations "
   ]
  },
  {
   "cell_type": "markdown",
   "metadata": {},
   "source": [
    " iterate through the lexicon and remember which pronounciations you have seen (in a set); when you run into a pronounciation you have already seen, add it to your set of duplicates."
   ]
  },
  {
   "cell_type": "code",
   "execution_count": 5,
   "metadata": {},
   "outputs": [
    {
     "name": "stdout",
     "output_type": "stream",
     "text": [
      "12827\n"
     ]
    }
   ],
   "source": [
    "p_dict = cmudict.dict() # p_dict is a Python dictionary\n",
    "tot_set=set()\n",
    "duplicate_set = set()\n",
    "for word, pronounciations in p_dict.items():\n",
    "    for i in pronounciations:\n",
    "        pronounciation= \" \".join(i)\n",
    "        if pronounciation in tot_set:\n",
    "            duplicate_set.add(pronounciation)\n",
    "        tot_set.add(pronounciation)\n",
    "        \n",
    "print(len(duplicate_set))"
   ]
  },
  {
   "cell_type": "markdown",
   "metadata": {},
   "source": [
    "percentage of word tokens in the English language which are homophones."
   ]
  },
  {
   "cell_type": "code",
   "execution_count": 8,
   "metadata": {},
   "outputs": [
    {
     "name": "stdout",
     "output_type": "stream",
     "text": [
      "0.36493448111940147\n"
     ]
    }
   ],
   "source": [
    "homophones = set()\n",
    "for word, pronounciations in p_dict.items():\n",
    "    for i in pronounciations:\n",
    "        pronounciation= \" \".join(i)\n",
    "        if pronounciation in duplicate_set:\n",
    "            homophones.add(word)\n",
    "\n",
    "            \n",
    "total_tokens = 0\n",
    "homophone_tokens = 0\n",
    "for word, values in brown.tagged_words():\n",
    "    word=word.lower()\n",
    "    if word in homophones:\n",
    "        homophone_tokens+=1\n",
    "    total_tokens+=1\n",
    "    tot_set.add(word)\n",
    "    \n",
    "percent_homophone = homophone_tokens/total_tokens\n",
    "print(percent_homophone)"
   ]
  },
  {
   "cell_type": "markdown",
   "metadata": {},
   "source": [
    "### Comparing genres "
   ]
  },
  {
   "cell_type": "markdown",
   "metadata": {},
   "source": [
    "finding words which appear considerably more often in one that the other genre"
   ]
  },
  {
   "cell_type": "code",
   "execution_count": 9,
   "metadata": {},
   "outputs": [],
   "source": [
    "def get_count_dict(genre):\n",
    "    '''count how often words appear in genres of the brown corpus, return dictionary of counts'''\n",
    "    count_dict = {}\n",
    "    # your code here\n",
    "    temp_count_dict = {}\n",
    "    for word in brown.words(categories=genre):\n",
    "        word = word.lower()\n",
    "        temp_count_dict[word] = temp_count_dict.get(word,0) + 1\n",
    "    \n",
    "    for word,count in temp_count_dict.items():\n",
    "        if count >= 3:\n",
    "            count_dict[word] = count\n",
    "    # your code here\n",
    "    return count_dict"
   ]
  },
  {
   "cell_type": "code",
   "execution_count": null,
   "metadata": {},
   "outputs": [],
   "source": []
  }
 ],
 "metadata": {
  "kernelspec": {
   "display_name": "Python 3",
   "language": "python",
   "name": "python3"
  },
  "language_info": {
   "codemirror_mode": {
    "name": "ipython",
    "version": 3
   },
   "file_extension": ".py",
   "mimetype": "text/x-python",
   "name": "python",
   "nbconvert_exporter": "python",
   "pygments_lexer": "ipython3",
   "version": "3.7.3"
  }
 },
 "nbformat": 4,
 "nbformat_minor": 4
}
